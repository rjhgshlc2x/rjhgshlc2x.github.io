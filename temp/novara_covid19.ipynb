{
  "nbformat": 4,
  "nbformat_minor": 0,
  "metadata": {
    "colab": {
      "name": "novara-covid19.ipynb",
      "provenance": [],
      "collapsed_sections": [],
      "authorship_tag": "ABX9TyOqVf8sveqw+mCJQOEf56AE",
      "include_colab_link": true
    },
    "kernelspec": {
      "name": "python3",
      "display_name": "Python 3"
    }
  },
  "cells": [
    {
      "cell_type": "markdown",
      "metadata": {
        "id": "view-in-github",
        "colab_type": "text"
      },
      "source": [
        "<a href=\"https://colab.research.google.com/github/rjhgshlc2x/rjhgshlc2x.github.io/blob/master/temp/novara_covid19.ipynb\" target=\"_parent\"><img src=\"https://colab.research.google.com/assets/colab-badge.svg\" alt=\"Open In Colab\"/></a>"
      ]
    },
    {
      "cell_type": "markdown",
      "metadata": {
        "id": "ALs2fwLhQ0Y4",
        "colab_type": "text"
      },
      "source": [
        "Dati Novara"
      ]
    },
    {
      "cell_type": "code",
      "metadata": {
        "id": "x7WnvgHwQ45P",
        "colab_type": "code",
        "colab": {}
      },
      "source": [
        "x = (3, 3, 3, 4, 5, 13, 14, 22, 27, 32, 48, 48, 71, 109)\n",
        "\n",
        "y = (1, 2, 3, 4, 5, 6, 7, 8, 9, 10, 11, 12, 13, 14)"
      ],
      "execution_count": 0,
      "outputs": []
    },
    {
      "cell_type": "markdown",
      "metadata": {
        "id": "ky0Ek7M-Q9RM",
        "colab_type": "text"
      },
      "source": [
        "Grafico dati Novara"
      ]
    },
    {
      "cell_type": "code",
      "metadata": {
        "id": "weSq1njoY4Fa",
        "colab_type": "code",
        "colab": {}
      },
      "source": [
        "import matplotlib.pyplot as plt"
      ],
      "execution_count": 0,
      "outputs": []
    },
    {
      "cell_type": "code",
      "metadata": {
        "id": "a2x0z9eeQ59v",
        "colab_type": "code",
        "outputId": "5e48a66a-44f2-41df-ac87-a6a495fda4b8",
        "colab": {
          "base_uri": "https://localhost:8080/",
          "height": 282
        }
      },
      "source": [
        "plt.figure(figsize=(6, 4))\n",
        "\n",
        "plt.scatter(y, x)"
      ],
      "execution_count": 5,
      "outputs": [
        {
          "output_type": "execute_result",
          "data": {
            "text/plain": [
              "<matplotlib.collections.PathCollection at 0x7f4502581ef0>"
            ]
          },
          "metadata": {
            "tags": []
          },
          "execution_count": 5
        },
        {
          "output_type": "display_data",
          "data": {
            "image/png": "[encoded data removed]",
            "text/plain": [
              "<Figure size 432x288 with 1 Axes>"
            ]
          },
          "metadata": {
            "tags": []
          }
        }
      ]
    },
    {
      "cell_type": "markdown",
      "metadata": {
        "id": "-ogrgifPRV7i",
        "colab_type": "text"
      },
      "source": [
        "Attenzione: da qui in poi bozza! Un grazie ai tanti italiani che ci stanno lavorando.\n",
        "\n",
        "Modello logistico per il fit: $$f(x,a,b,c)=\\frac{c}{1+e^{-(x-b)/a}}$$"
      ]
    },
    {
      "cell_type": "code",
      "metadata": {
        "id": "tJx7yw26Yy6n",
        "colab_type": "code",
        "colab": {}
      },
      "source": [
        "import numpy as np"
      ],
      "execution_count": 0,
      "outputs": []
    },
    {
      "cell_type": "code",
      "metadata": {
        "id": "ZxCCoUuhRQVn",
        "colab_type": "code",
        "colab": {}
      },
      "source": [
        "def modello_logistico(x,a,b,c):\n",
        "    return c/(1+np.exp(-(x-b)/a))"
      ],
      "execution_count": 0,
      "outputs": []
    },
    {
      "cell_type": "code",
      "metadata": {
        "id": "AORvgbCJZ6_0",
        "colab_type": "code",
        "colab": {}
      },
      "source": [
        "from scipy import optimize"
      ],
      "execution_count": 0,
      "outputs": []
    },
    {
      "cell_type": "code",
      "metadata": {
        "id": "GuEQoj-AUUmF",
        "colab_type": "code",
        "colab": {}
      },
      "source": [
        "params, params_covariance = optimize.curve_fit(modello_logistico, y, x, p0=[2, 10, 100], maxfev=10000)"
      ],
      "execution_count": 0,
      "outputs": []
    },
    {
      "cell_type": "code",
      "metadata": {
        "id": "N0c-MXsQU0Up",
        "colab_type": "code",
        "outputId": "42faa116-7e0b-40e0-86f1-491a07f6d6db",
        "colab": {
          "base_uri": "https://localhost:8080/",
          "height": 265
        }
      },
      "source": [
        "plt.figure(figsize=(6, 4))\n",
        "\n",
        "plt.scatter(y, x, label='Dati')\n",
        "\n",
        "plt.plot(y, modello_logistico(y, params[0], params[1], params[2]),\n",
        "         label='Fit')\n",
        "\n",
        "plt.legend(loc='best')\n",
        "\n",
        "plt.show()"
      ],
      "execution_count": 10,
      "outputs": [
        {
          "output_type": "display_data",
          "data": {
            "image/png": "[encoded data removed]",
            "text/plain": [
              "<Figure size 432x288 with 1 Axes>"
            ]
          },
          "metadata": {
            "tags": []
          }
        }
      ]
    },
    {
      "cell_type": "code",
      "metadata": {
        "id": "rsopD2L6aDQF",
        "colab_type": "code",
        "colab": {}
      },
      "source": [
        ""
      ],
      "execution_count": 0,
      "outputs": []
    }
  ]
}