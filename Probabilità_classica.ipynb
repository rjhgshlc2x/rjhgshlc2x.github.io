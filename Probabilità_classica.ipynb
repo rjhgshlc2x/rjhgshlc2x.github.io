{
  "nbformat": 4,
  "nbformat_minor": 0,
  "metadata": {
    "colab": {
      "name": "Probabilità classica",
      "provenance": [],
      "authorship_tag": "ABX9TyPivUshLWUKir9MrGHg/eUj",
      "include_colab_link": true
    },
    "kernelspec": {
      "name": "python3",
      "display_name": "Python 3"
    }
  },
  "cells": [
    {
      "cell_type": "markdown",
      "metadata": {
        "id": "view-in-github",
        "colab_type": "text"
      },
      "source": [
        "<a href=\"https://colab.research.google.com/github/rjhgshlc2x/rjhgshlc2x.github.io/blob/master/Probabilit%C3%A0_classica.ipynb\" target=\"_parent\"><img src=\"https://colab.research.google.com/assets/colab-badge.svg\" alt=\"Open In Colab\"/></a>"
      ]
    },
    {
      "cell_type": "markdown",
      "metadata": {
        "id": "1nwbcnbK5LpI"
      },
      "source": [
        "# Calcolo della probabilià classica di un evento"
      ]
    },
    {
      "cell_type": "markdown",
      "metadata": {
        "id": "CtepNq1-6HWl"
      },
      "source": [
        "La formula da utilizzare per trovare la probabilià di un evento A è: $$P(A) = \\frac{a}{b}$$.\n",
        "\n",
        "Dove:\n",
        "\n",
        "a: Numero di casi faorevoli.\n",
        "\n",
        "b: Numero di casi possibili."
      ]
    },
    {
      "cell_type": "markdown",
      "metadata": {
        "id": "2oY9VXrI9_ez"
      },
      "source": [
        "Immaginiamo che in 5 giorni (la varibile b) per 2 giorni (la variabile a) si verifichi quello di cui dobbiamo calcolare la probabilità che accada in futuro."
      ]
    },
    {
      "cell_type": "markdown",
      "metadata": {
        "id": "4DR2vmw59dWA"
      },
      "source": [
        "In Python:"
      ]
    },
    {
      "cell_type": "code",
      "metadata": {
        "id": "G3tcmlY65YMw"
      },
      "source": [
        "a = 2\n",
        "b = 5"
      ],
      "execution_count": null,
      "outputs": []
    },
    {
      "cell_type": "code",
      "metadata": {
        "id": "Pr-ayUWK9mmn"
      },
      "source": [
        "B = a/b"
      ],
      "execution_count": null,
      "outputs": []
    },
    {
      "cell_type": "code",
      "metadata": {
        "id": "ItlyeE24-4UP"
      },
      "source": [
        "A = B * 100"
      ],
      "execution_count": null,
      "outputs": []
    },
    {
      "cell_type": "code",
      "metadata": {
        "id": "OVQNJWET9uTr",
        "outputId": "699a9ad9-5378-49b3-c7ac-cf291e6bc87e",
        "colab": {
          "base_uri": "https://localhost:8080/",
          "height": 34
        }
      },
      "source": [
        "print(A)"
      ],
      "execution_count": null,
      "outputs": [
        {
          "output_type": "stream",
          "text": [
            "40.0\n"
          ],
          "name": "stdout"
        }
      ]
    },
    {
      "cell_type": "markdown",
      "metadata": {
        "id": "VG88v4cDCPVV"
      },
      "source": [
        "Vi è il 40% di probabilità che accada."
      ]
    }
  ]
}